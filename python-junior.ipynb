{
 "cells": [
  {
   "cell_type": "markdown",
   "metadata": {},
   "source": [
    "# 1. Основы Python\n",
    "## 1.1 Python. Управление потоком выполнения\n",
    "### if, else, while, continue, break, for"
   ]
  },
  {
   "cell_type": "markdown",
   "metadata": {},
   "source": [
    "**Задание 1.** Напишите функцию для вывода всех чисел от 1000 до 2000, которые делятся на 7, но не кратны 5. Решение должно использовать операторы управления потоком выполнения."
   ]
  },
  {
   "cell_type": "code",
   "execution_count": null,
   "metadata": {},
   "outputs": [
    {
     "name": "stderr",
     "output_type": "stream",
     "text": [
      "test_get_numbers (__main__.MyTestCase.test_get_numbers) ... ok\n",
      "\n",
      "----------------------------------------------------------------------\n",
      "Ran 1 test in 0.001s\n",
      "\n",
      "OK\n"
     ]
    }
   ],
   "source": [
    "import unittest\n",
    "\n",
    "def task_1():\n",
    "    lst = []\n",
    "    for x in range(1000, 2001):\n",
    "        if x % 7 == 0 and x % 5 != 0:\n",
    "            lst.append(x)\n",
    "    return lst\n",
    "\n",
    "class MyTestCase(unittest.TestCase):\n",
    "    def test_get_numbers(self):\n",
    "        numbers = [\n",
    "            1001, 1008, 1022, 1029, 1036, 1043, 1057, 1064, 1071, 1078, 1092, 1099, 1106, 1113, 1127, 1134, 1141,\n",
    "            1148, 1162, 1169, 1176, 1183, 1197, 1204, 1211, 1218, 1232, 1239, 1246, 1253, 1267, 1274, 1281, 1288, 1302,\n",
    "            1309, 1316, 1323, 1337, 1344, 1351, 1358, 1372, 1379, 1386, 1393, 1407, 1414, 1421, 1428, 1442, 1449, 1456,\n",
    "            1463, 1477, 1484, 1491, 1498, 1512, 1519, 1526, 1533, 1547, 1554, 1561, 1568, 1582, 1589, 1596, 1603, 1617,\n",
    "            1624, 1631, 1638, 1652, 1659, 1666, 1673, 1687, 1694, 1701, 1708, 1722, 1729, 1736, 1743, 1757, 1764, 1771,\n",
    "            1778, 1792, 1799, 1806, 1813, 1827, 1834, 1841, 1848, 1862, 1869, 1876, 1883, 1897, 1904, 1911, 1918, 1932,\n",
    "            1939, 1946, 1953, 1967, 1974, 1981, 1988\n",
    "        ]\n",
    "\n",
    "        self.assertEqual(list(task_1()), numbers)\n",
    "\n",
    "\n",
    "if __name__ == '__main__':\n",
    "    unittest.main(argv=[''], verbosity=2, exit=False)"
   ]
  },
  {
   "cell_type": "markdown",
   "metadata": {},
   "source": [
    "**Задание 2.** Напишите функцию для конвертации температуры из градусов Цельсия в градусы Фарингейта и обратно. Если указана иная система счисления, то нужно вернуть значение, которое пришло на вход конвертации. Решение должно использовать операторы управления потоком выполнения."
   ]
  },
  {
   "cell_type": "code",
   "execution_count": 10,
   "metadata": {},
   "outputs": [
    {
     "name": "stderr",
     "output_type": "stream",
     "text": [
      "test_get_999_celsius (__main__.MyTestCase.test_get_999_celsius) ... ok\n",
      "test_get_999_fahrenheit (__main__.MyTestCase.test_get_999_fahrenheit) ... ok\n",
      "test_get_invalid_scale (__main__.MyTestCase.test_get_invalid_scale) ... ok\n",
      "test_get_zero_celsius (__main__.MyTestCase.test_get_zero_celsius) ... ok\n",
      "test_get_zero_fahrenheit (__main__.MyTestCase.test_get_zero_fahrenheit) ... ok\n",
      "\n",
      "----------------------------------------------------------------------\n",
      "Ran 5 tests in 0.008s\n",
      "\n",
      "OK\n"
     ]
    }
   ],
   "source": [
    "def task_2(val, t):\n",
    "    if t == 'C' or t == 'c':\n",
    "        val_out = (val-32)/1.8\n",
    "    elif t == 'F' or t == 'f':\n",
    "        val_out = val*1.8+32\n",
    "    else:\n",
    "        return val\n",
    "    return float(format(val_out, '.2f'))\n",
    "\n",
    "class MyTestCase(unittest.TestCase):\n",
    "    def test_get_zero_celsius(self):\n",
    "        self.assertEqual(int(task_2(0, 'F')), 32)\n",
    "\n",
    "    def test_get_zero_fahrenheit(self):\n",
    "        self.assertEqual(int(task_2(0, 'C')), -17)\n",
    "\n",
    "    def test_get_999_celsius(self):\n",
    "        self.assertEqual(int(task_2(999, 'F')), 1830)\n",
    "\n",
    "    def test_get_999_fahrenheit(self):\n",
    "        self.assertEqual(int(task_2(999, 'C')), 537)\n",
    "\n",
    "    def test_get_invalid_scale(self):\n",
    "        self.assertEqual(int(task_2(10, 'I')), 10)\n",
    "\n",
    "\n",
    "if __name__ == '__main__':\n",
    "    unittest.main(argv=[''], verbosity=2, exit=False)"
   ]
  },
  {
   "cell_type": "markdown",
   "metadata": {},
   "source": [
    "**Задание 3.** Напишите функцию для преобразования названия месяца в количество дней. Если пришло неизвестное название месяца - нужно вернуть 0. Решение должно использовать операторы управления потоком выполнения."
   ]
  },
  {
   "cell_type": "code",
   "execution_count": null,
   "metadata": {},
   "outputs": [
    {
     "name": "stderr",
     "output_type": "stream",
     "text": [
      "test_april (__main__.MyTestCase.test_april) ... ok\n",
      "test_august (__main__.MyTestCase.test_august) ... ok\n",
      "test_december (__main__.MyTestCase.test_december) ... ok\n",
      "test_february (__main__.MyTestCase.test_february) ... ok\n",
      "test_invalid (__main__.MyTestCase.test_invalid) ... ok\n",
      "test_january (__main__.MyTestCase.test_january) ... ok\n",
      "test_july (__main__.MyTestCase.test_july) ... ok\n",
      "test_june (__main__.MyTestCase.test_june) ... ok\n",
      "test_march (__main__.MyTestCase.test_march) ... ok\n",
      "test_may (__main__.MyTestCase.test_may) ... ok\n",
      "test_november (__main__.MyTestCase.test_november) ... ok\n",
      "test_october (__main__.MyTestCase.test_october) ... ok\n",
      "test_september (__main__.MyTestCase.test_september) ... ok\n",
      "\n",
      "----------------------------------------------------------------------\n",
      "Ran 13 tests in 0.019s\n",
      "\n",
      "OK\n"
     ]
    }
   ],
   "source": [
    "import random\n",
    "\n",
    "def task_3(month):\n",
    "    if month in ['январь', 'март', 'май', 'июль', 'август', 'октябрь', 'декабрь']:\n",
    "        return 31\n",
    "    elif month in ['апрель', 'июнь', 'сентябрь', 'ноябрь']:\n",
    "        return 30\n",
    "    elif month == 'февраль':\n",
    "        feb_num = random.randrange(28, 29)\n",
    "        return feb_num\n",
    "    else:\n",
    "        return 0\n",
    "    \n",
    "class MyTestCase(unittest.TestCase):\n",
    "    def test_january(self):\n",
    "        self.assertEqual(task_3('январь'), 31)\n",
    "\n",
    "    def test_february(self):\n",
    "        self.assertIn(task_3('февраль'), (28, 29))\n",
    "\n",
    "    def test_march(self):\n",
    "        self.assertEqual(task_3('март'), 31)\n",
    "\n",
    "    def test_april(self):\n",
    "        self.assertEqual(task_3('апрель'), 30)\n",
    "\n",
    "    def test_may(self):\n",
    "        self.assertEqual(task_3('май'), 31)\n",
    "\n",
    "    def test_june(self):\n",
    "        self.assertEqual(task_3('июнь'), 30)\n",
    "\n",
    "    def test_july(self):\n",
    "        self.assertEqual(task_3('июль'), 31)\n",
    "\n",
    "    def test_august(self):\n",
    "        self.assertEqual(task_3('август'), 31)\n",
    "\n",
    "    def test_september(self):\n",
    "        self.assertEqual(task_3('сентябрь'), 30)\n",
    "\n",
    "    def test_october(self):\n",
    "        self.assertEqual(task_3('октябрь'), 31)\n",
    "\n",
    "    def test_november(self):\n",
    "        self.assertEqual(task_3('ноябрь'), 30)\n",
    "\n",
    "    def test_december(self):\n",
    "        self.assertEqual(task_3('декабрь'), 31)\n",
    "\n",
    "    def test_invalid(self):\n",
    "        self.assertEqual(task_3('отдыхабрь'), 0)\n",
    "\n",
    "if __name__ == '__main__':\n",
    "    unittest.main(argv=[''], verbosity=2, exit=False)"
   ]
  },
  {
   "cell_type": "markdown",
   "metadata": {},
   "source": [
    "**Задание 4.** Напишите функцию, чтобы получить следующий день для заданной даты Решение должно использовать операторы управления потоком выполнения."
   ]
  },
  {
   "cell_type": "code",
   "execution_count": 20,
   "metadata": {},
   "outputs": [
    {
     "name": "stderr",
     "output_type": "stream",
     "text": [
      "test_next_day (__main__.MyTestCase.test_next_day) ... ok\n",
      "test_next_extra_february (__main__.MyTestCase.test_next_extra_february) ... ok\n",
      "test_next_month (__main__.MyTestCase.test_next_month) ... ok\n",
      "test_next_year (__main__.MyTestCase.test_next_year) ... ok\n",
      "\n",
      "----------------------------------------------------------------------\n",
      "Ran 4 tests in 0.011s\n",
      "\n",
      "OK\n"
     ]
    }
   ],
   "source": [
    "from datetime import date, timedelta\n",
    "def task_4(date_in):\n",
    "    return date_in + timedelta(1)\n",
    "\n",
    "class MyTestCase(unittest.TestCase):\n",
    "    def test_next_day(self):\n",
    "        self.assertEqual(task_4(date(2021, 3, 3)), date(2021, 3, 4))\n",
    "\n",
    "    def test_next_month(self):\n",
    "        self.assertEqual(task_4(date(2021, 4, 30)), date(2021, 5, 1))\n",
    "\n",
    "    def test_next_year(self):\n",
    "        self.assertEqual(task_4(date(2021, 12, 31)), date(2022, 1, 1))\n",
    "\n",
    "    def test_next_extra_february(self):\n",
    "        self.assertEqual(task_4(date(2020, 2, 28)), date(2020, 2, 29))\n",
    "\n",
    "\n",
    "if __name__ == '__main__':\n",
    "    unittest.main(argv=[''], verbosity=2, exit=False)"
   ]
  }
 ],
 "metadata": {
  "kernelspec": {
   "display_name": ".venv",
   "language": "python",
   "name": "python3"
  },
  "language_info": {
   "codemirror_mode": {
    "name": "ipython",
    "version": 3
   },
   "file_extension": ".py",
   "mimetype": "text/x-python",
   "name": "python",
   "nbconvert_exporter": "python",
   "pygments_lexer": "ipython3",
   "version": "3.11.2"
  }
 },
 "nbformat": 4,
 "nbformat_minor": 2
}
