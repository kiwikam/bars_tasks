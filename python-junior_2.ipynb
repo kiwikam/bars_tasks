{
 "cells": [
  {
   "cell_type": "markdown",
   "metadata": {},
   "source": [
    "# 1. Основы Python\n",
    "## 1.2 Python. Области видимости\n",
    "**Задание.** Что будет выведено после выполнения кода? Почему?"
   ]
  },
  {
   "cell_type": "markdown",
   "metadata": {},
   "source": [
    "**Пример 1.** Переменная `x` объявлена глобально и после выполнения функции объект этой переменной не будет удален и с ним можно будет дальше работать вне функции."
   ]
  },
  {
   "cell_type": "code",
   "execution_count": 14,
   "metadata": {},
   "outputs": [
    {
     "name": "stdout",
     "output_type": "stream",
     "text": [
      "43\n",
      "43\n"
     ]
    }
   ],
   "source": [
    "x = 42\n",
    "\n",
    "\n",
    "def some_func():\n",
    "    global x\n",
    "    x = x + 1\n",
    "    print(x)\n",
    "\n",
    "\n",
    "some_func()\n",
    "print(x)"
   ]
  },
  {
   "cell_type": "markdown",
   "metadata": {},
   "source": [
    "**Пример 2.** в `print(transmit_to_space(\"Test message\"))` вызывается функция `transmit_to_space()` с входящим аргументом, она вызывает вложенную функцию `data_transmitter()` и так как вложенная функция вызывается внутри `transmit_to_space()`, то видимость переменной `message` остается внутни первой функции. Вложенная функция выполныет вывод переданной строки, однако функция transmit_to_space() ничего не возвращает после выполнения и по этому `print(transmit_to_space(\"Test message\"))` выводит нулевой вывод (`Null`/`None`).\n",
    "\n",
    "Пример с функциями `transmit_to_space_2()` и `data_transmitter_2()` показывает, что будет если для `transmit_to_space_2()` добавить `return`."
   ]
  },
  {
   "cell_type": "code",
   "execution_count": 20,
   "metadata": {},
   "outputs": [
    {
     "name": "stdout",
     "output_type": "stream",
     "text": [
      "Test message\n",
      "None\n",
      "\n",
      "С return:\n",
      "Test message\n",
      "Test message\n"
     ]
    }
   ],
   "source": [
    "def transmit_to_space(message):\n",
    "   \n",
    "    def data_transmitter():        \n",
    "        print(message)\n",
    "\n",
    "    data_transmitter()\n",
    "\n",
    "print(transmit_to_space(\"Test message\"))\n",
    "\n",
    "print('\\nС return:')\n",
    "\n",
    "def transmit_to_space_2(message):\n",
    "   \n",
    "    def data_transmitter_2():        \n",
    "        print(message)\n",
    "\n",
    "    data_transmitter_2()\n",
    "    return message\n",
    "\n",
    "print(transmit_to_space_2(\"Test message\"))"
   ]
  },
  {
   "cell_type": "markdown",
   "metadata": {},
   "source": [
    "**Пример 3.** Из-за вызова локальной переменной, как `nonlocal` внутри `printer()`, переменная `number` становится видна в ближайшей области видимости (в функции `print_msg()`). Так как значение переменной `number` в `printer()` изменено на 3 и область видимости изменена, то при выводе через `print(number)` будет два раза выведено 3. Пример без `nonlocal` будет представлен."
   ]
  },
  {
   "cell_type": "code",
   "execution_count": 6,
   "metadata": {},
   "outputs": [
    {
     "name": "stdout",
     "output_type": "stream",
     "text": [
      "Пример с nonlocal:\n",
      "3\n",
      "3\n",
      "\n",
      "Пример без nonlocal:\n",
      "3\n",
      "9\n"
     ]
    }
   ],
   "source": [
    "def print_msg(number):\n",
    "\n",
    "    def printer():\n",
    "        nonlocal number\n",
    "        number=3\n",
    "        print(number)\n",
    "\n",
    "    printer()\n",
    "    print(number)\n",
    "\n",
    "\n",
    "\n",
    "def print_msg_2(number):\n",
    "\n",
    "    def printer_2():\n",
    "        number=3\n",
    "        print(number)\n",
    "\n",
    "    printer_2()\n",
    "    print(number)\n",
    "\n",
    "print(f'Пример с nonlocal:')\n",
    "print_msg(9)\n",
    "\n",
    "print('\\nПример без nonlocal:')\n",
    "print_msg_2(9)"
   ]
  },
  {
   "cell_type": "markdown",
   "metadata": {},
   "source": [
    "**Задание.** Измените функцию таким образом, чтобы она открывала и закрывала файл."
   ]
  },
  {
   "cell_type": "code",
   "execution_count": null,
   "metadata": {},
   "outputs": [
    {
     "name": "stderr",
     "output_type": "stream",
     "text": [
      "test_open_and_close_file (__main__.MyTestCase.test_open_and_close_file) ... ok\n",
      "\n",
      "----------------------------------------------------------------------\n",
      "Ran 1 test in 0.002s\n",
      "\n",
      "OK\n"
     ]
    }
   ],
   "source": [
    "import unittest\n",
    "\n",
    "def bad_open(file_path, mode):\n",
    "    \"\"\"Некорректная функция открытия файла\"\"\"\n",
    "    raise Exception\n",
    "\n",
    "\n",
    "def open_and_close_file(file_path):\n",
    "    \"\"\"Открывает и закрывает файл\n",
    "\n",
    "    Args:\n",
    "        file_path: путь до файла\n",
    "    \"\"\"\n",
    "    #open = bad_open  # ошибка, т.к. имя open используется для встроенной функции open()\n",
    "    f = open(file_path, 'r')\n",
    "    f.close()\n",
    "    if f.closed == True: # Добавлена проверка, если файл как-то не закрылся\n",
    "        return None\n",
    "    return print(f'Файл по пути {f.name} не закрыт')\n",
    "\n",
    "class MyTestCase(unittest.TestCase):\n",
    "    def test_open_and_close_file(self):\n",
    "        self.assertEqual(open_and_close_file('./description.md'), None)\n",
    "\n",
    "\n",
    "if __name__ == '__main__':\n",
    "    unittest.main(argv=[''], verbosity=2, exit=False)"
   ]
  }
 ],
 "metadata": {
  "kernelspec": {
   "display_name": ".venv",
   "language": "python",
   "name": "python3"
  },
  "language_info": {
   "codemirror_mode": {
    "name": "ipython",
    "version": 3
   },
   "file_extension": ".py",
   "mimetype": "text/x-python",
   "name": "python",
   "nbconvert_exporter": "python",
   "pygments_lexer": "ipython3",
   "version": "3.11.2"
  }
 },
 "nbformat": 4,
 "nbformat_minor": 2
}
